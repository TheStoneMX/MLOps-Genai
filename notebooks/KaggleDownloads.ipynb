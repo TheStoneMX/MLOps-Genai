{
 "cells": [
  {
   "cell_type": "code",
   "execution_count": 1,
   "id": "4976314b-a3fa-4bda-8fa3-61869f869f25",
   "metadata": {},
   "outputs": [],
   "source": [
    "# !pip install -q kaggle "
   ]
  },
  {
   "cell_type": "code",
   "execution_count": 2,
   "id": "1462b19d-0382-4ea3-a357-0a3fe1eea24a",
   "metadata": {},
   "outputs": [],
   "source": [
    "import os\n",
    "import shutil\n",
    "import kaggle\n",
    "import json\n",
    "from kaggle.api.kaggle_api_extended import KaggleApi"
   ]
  },
  {
   "cell_type": "code",
   "execution_count": 3,
   "id": "d7bc7ae5-c035-4187-bb02-4b4a089d5ac8",
   "metadata": {},
   "outputs": [],
   "source": [
    "def kaggle_config(kaggle_credentials):\n",
    "    \n",
    "    # Path to the .kaggle directory\n",
    "    kaggle_dir = os.path.join(os.path.expanduser('~'), '.kaggle')\n",
    "\n",
    "    # Ensure the .kaggle directory exists, create if not\n",
    "    if not os.path.exists(kaggle_dir):\n",
    "        os.makedirs(kaggle_dir)\n",
    "        print(f\"Created directory: {kaggle_dir}\")\n",
    "    else:\n",
    "        print(f\"Directory already exists: {kaggle_dir}\")\n",
    "\n",
    "    # We Define kaggle_json before using it\n",
    "    # Path to the kaggle.json file\n",
    "    kaggle_json = os.path.join(kaggle_dir, 'kaggle.json')\n",
    "\n",
    "    # Here we check if kaggle.json already exists\n",
    "    if not os.path.exists(kaggle_json):\n",
    "        print(\"Creating kaggle.json file with provided credentials...\")\n",
    "        # Try to write the credentials to kaggle.json\n",
    "        try:\n",
    "            with open(kaggle_json, 'w') as f:\n",
    "                json.dump(kaggle_credentials, f)\n",
    "            # Set appropriate permissions\n",
    "            os.chmod(kaggle_json, 0o600) # ensures that only the file owner has permission to read and write the file\n",
    "            print(\"kaggle.json created successfully.\")\n",
    "        except Exception as e:\n",
    "            print(f\"Error writing kaggle.json: {str(e)}\")    \n",
    "        else:\n",
    "            print(\"kaggle.json already exists. Using existing credentials.\")\n"
   ]
  },
  {
   "cell_type": "code",
   "execution_count": 4,
   "id": "6017a265-38b3-4fa5-8037-3232ed8a2796",
   "metadata": {},
   "outputs": [],
   "source": [
    "def download_kaggle_datasets(target_dir='../data'):\n",
    "    # Initialize Kaggle API\n",
    "    api = KaggleApi()\n",
    "    \n",
    "    # Authenticate using the credentials set in environment variables\n",
    "    try:\n",
    "        # Authenticate using the credentials set in environment variables\n",
    "        api.authenticate()\n",
    "    except Exception as e:\n",
    "        print(f\"Authentication failed: {str(e)}\")\n",
    "        return\n",
    "\n",
    "    # make sure the data directory exist\n",
    "    if not os.path.exists(target_dir):\n",
    "        os.makedirs(target_dir)\n",
    "        print(f\"Created directory: {target_dir}\")\n",
    "    else:\n",
    "        print(f\"Directory already exists: {target_dir}\")\n",
    "            \n",
    "    # Download S&P500 stocks dataset\n",
    "    print(\"Downloading S&P500 dataset...\")\n",
    "    try:\n",
    "        # 'camnugent/sandp500' is the dataset identifier on Kaggle\n",
    "        # 'path' specifies where to save the dataset\n",
    "        # 'unzip=True' automatically extracts the downloaded zip file\n",
    "        api.dataset_download_files('camnugent/sandp500', path=target_dir, unzip=True)\n",
    "        print(\"S&P500 dataset downloaded successfully.\")\n",
    "    except Exception as e:\n",
    "        print(f\"Failed to download S&P500 dataset: {str(e)}\")\n",
    "\n",
    "    # Download Red Wine dataset\n",
    "    print(\"Downloading Red Wine dataset...\")\n",
    "    try:\n",
    "        # 'uciml/red-wine-quality-cortez-et-al-2009' is the dataset identifier on Kaggle\n",
    "        api.dataset_download_files('uciml/red-wine-quality-cortez-et-al-2009', path=target_dir, unzip=True)\n",
    "        print(\"Red Wine dataset downloaded successfully.\")\n",
    "    except Exception as e:\n",
    "        print(f\"Failed to download Red Wine dataset: {str(e)}\")\n",
    "\n",
    "    print(\"Datasets downloaded successfully to the 'data' directory.\")\n",
    "\n"
   ]
  },
  {
   "cell_type": "code",
   "execution_count": 5,
   "id": "ae7f877e-b5a9-4d06-8541-40cd4dfec8ac",
   "metadata": {},
   "outputs": [
    {
     "name": "stdout",
     "output_type": "stream",
     "text": [
      "Directory already exists: /root/.kaggle\n",
      "Directory already exists: ../data\n",
      "Downloading S&P500 dataset...\n",
      "Dataset URL: https://www.kaggle.com/datasets/camnugent/sandp500\n",
      "S&P500 dataset downloaded successfully.\n",
      "Downloading Red Wine dataset...\n",
      "Dataset URL: https://www.kaggle.com/datasets/uciml/red-wine-quality-cortez-et-al-2009\n",
      "Red Wine dataset downloaded successfully.\n",
      "Datasets downloaded successfully to the 'data' directory.\n"
     ]
    }
   ],
   "source": [
    "if __name__ == \"__main__\":\n",
    "\n",
    "    try:\n",
    "        # Kaggle credentials in order to download files\n",
    "        kaggle_credentials = {\n",
    "            \"username\": \"oscarrangel\",\n",
    "            \"key\": \"6a280777043fa3fefa92c0f6e72bc551\"\n",
    "        }\n",
    "\n",
    "        # Configure environment to be able to log in and download files from Kaggle.\n",
    "        kaggle_config(kaggle_credentials)\n",
    "\n",
    "        # Now we can download the files.\n",
    "        download_kaggle_datasets()\n",
    "    except Exception as e:\n",
    "        print(f\"An error occurred: {str(e)}\")\n",
    "        "
   ]
  },
  {
   "cell_type": "code",
   "execution_count": null,
   "id": "9790e4d8-c9fe-4452-9c55-f5f1a36983d2",
   "metadata": {},
   "outputs": [],
   "source": []
  }
 ],
 "metadata": {
  "kernelspec": {
   "display_name": "Python 3 (ipykernel)",
   "language": "python",
   "name": "python3"
  },
  "language_info": {
   "codemirror_mode": {
    "name": "ipython",
    "version": 3
   },
   "file_extension": ".py",
   "mimetype": "text/x-python",
   "name": "python",
   "nbconvert_exporter": "python",
   "pygments_lexer": "ipython3",
   "version": "3.11.10"
  }
 },
 "nbformat": 4,
 "nbformat_minor": 5
}
